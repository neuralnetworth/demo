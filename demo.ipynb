{
 "cells": [
  {
   "cell_type": "markdown",
   "id": "a375a168-a474-4d0c-b96f-e3338ac682b1",
   "metadata": {},
   "source": [
    "## Testing jupyter notebooks"
   ]
  },
  {
   "cell_type": "code",
   "execution_count": 3,
   "id": "4f3dd4c3-354b-4fd4-9e95-3cd7b46ad2ed",
   "metadata": {},
   "outputs": [
    {
     "data": {
      "text/plain": [
       "2"
      ]
     },
     "execution_count": 3,
     "metadata": {},
     "output_type": "execute_result"
    }
   ],
   "source": [
    "1+1"
   ]
  },
  {
   "cell_type": "code",
   "execution_count": null,
   "id": "711935b2-0f35-4810-ade5-42cd6ab804b8",
   "metadata": {},
   "outputs": [],
   "source": []
  },
  {
   "cell_type": "code",
   "execution_count": null,
   "id": "f668082e-0e64-4f97-b990-3dfa0be3850a",
   "metadata": {},
   "outputs": [],
   "source": []
  }
 ],
 "metadata": {
  "kernelspec": {
   "display_name": "Python 3 (ipykernel)",
   "language": "python",
   "name": "python3"
  },
  "language_info": {
   "codemirror_mode": {
    "name": "ipython",
    "version": 3
   },
   "file_extension": ".py",
   "mimetype": "text/x-python",
   "name": "python",
   "nbconvert_exporter": "python",
   "pygments_lexer": "ipython3",
   "version": "3.10.14"
  }
 },
 "nbformat": 4,
 "nbformat_minor": 5
}
